{
 "cells": [
  {
   "cell_type": "markdown",
   "metadata": {},
   "source": [
    "## Makine Öğrenimi Kullanarak Asteroitleri Potansiyel Tehlike Olarak Sınıflandırma"
   ]
  },
  {
   "cell_type": "code",
   "execution_count": 107,
   "metadata": {},
   "outputs": [],
   "source": [
    "import pandas as pd\n",
    "import matplotlib.pyplot as plt\n",
    "from matplotlib.font_manager import FontProperties\n",
    "import seaborn as sns\n",
    "from sklearn.preprocessing import StandardScaler\n",
    "from sklearn.model_selection import train_test_split\n",
    "from sklearn.neighbors import KNeighborsClassifier\n",
    "from sklearn.metrics import accuracy_score"
   ]
  },
  {
   "cell_type": "code",
   "execution_count": 108,
   "metadata": {},
   "outputs": [
    {
     "name": "stderr",
     "output_type": "stream",
     "text": [
      "C:\\Users\\Beyza\\AppData\\Local\\Temp\\ipykernel_8104\\2417667175.py:1: DtypeWarning: Columns (3,4,5) have mixed types. Specify dtype option on import or set low_memory=False.\n",
      "  data = pd.read_csv(\"dataset.csv\")\n"
     ]
    }
   ],
   "source": [
    "data = pd.read_csv(\"dataset.csv\")"
   ]
  },
  {
   "cell_type": "markdown",
   "metadata": {},
   "source": [
    "* Veri setinde 958,542 satır, 45 sütun var\n",
    "* Veri setinde object, int64, float64 gibi değişik veri tiplerinde değerler var\n",
    "* Bazı sütunlarda boş değerler var\n",
    "* Prefix sütunu neredeyse tamamen boş"
   ]
  },
  {
   "cell_type": "code",
   "execution_count": 109,
   "metadata": {},
   "outputs": [
    {
     "name": "stdout",
     "output_type": "stream",
     "text": [
      "<class 'pandas.core.frame.DataFrame'>\n",
      "RangeIndex: 958524 entries, 0 to 958523\n",
      "Data columns (total 45 columns):\n",
      " #   Column          Non-Null Count   Dtype  \n",
      "---  ------          --------------   -----  \n",
      " 0   id              958524 non-null  object \n",
      " 1   spkid           958524 non-null  int64  \n",
      " 2   full_name       958524 non-null  object \n",
      " 3   pdes            958524 non-null  object \n",
      " 4   name            22064 non-null   object \n",
      " 5   prefix          18 non-null      object \n",
      " 6   neo             958520 non-null  object \n",
      " 7   pha             938603 non-null  object \n",
      " 8   H               952261 non-null  float64\n",
      " 9   diameter        136209 non-null  float64\n",
      " 10  albedo          135103 non-null  float64\n",
      " 11  diameter_sigma  136081 non-null  float64\n",
      " 12  orbit_id        958524 non-null  object \n",
      " 13  epoch           958524 non-null  float64\n",
      " 14  epoch_mjd       958524 non-null  int64  \n",
      " 15  epoch_cal       958524 non-null  float64\n",
      " 16  equinox         958524 non-null  object \n",
      " 17  e               958524 non-null  float64\n",
      " 18  a               958524 non-null  float64\n",
      " 19  q               958524 non-null  float64\n",
      " 20  i               958524 non-null  float64\n",
      " 21  om              958524 non-null  float64\n",
      " 22  w               958524 non-null  float64\n",
      " 23  ma              958523 non-null  float64\n",
      " 24  ad              958520 non-null  float64\n",
      " 25  n               958524 non-null  float64\n",
      " 26  tp              958524 non-null  float64\n",
      " 27  tp_cal          958524 non-null  float64\n",
      " 28  per             958520 non-null  float64\n",
      " 29  per_y           958523 non-null  float64\n",
      " 30  moid            938603 non-null  float64\n",
      " 31  moid_ld         958397 non-null  float64\n",
      " 32  sigma_e         938602 non-null  float64\n",
      " 33  sigma_a         938602 non-null  float64\n",
      " 34  sigma_q         938602 non-null  float64\n",
      " 35  sigma_i         938602 non-null  float64\n",
      " 36  sigma_om        938602 non-null  float64\n",
      " 37  sigma_w         938602 non-null  float64\n",
      " 38  sigma_ma        938602 non-null  float64\n",
      " 39  sigma_ad        938598 non-null  float64\n",
      " 40  sigma_n         938602 non-null  float64\n",
      " 41  sigma_tp        938602 non-null  float64\n",
      " 42  sigma_per       938598 non-null  float64\n",
      " 43  class           958524 non-null  object \n",
      " 44  rms             958522 non-null  float64\n",
      "dtypes: float64(33), int64(2), object(10)\n",
      "memory usage: 329.1+ MB\n"
     ]
    }
   ],
   "source": [
    "data.info()"
   ]
  },
  {
   "cell_type": "code",
   "execution_count": 110,
   "metadata": {},
   "outputs": [
    {
     "data": {
      "text/html": [
       "<div>\n",
       "<style scoped>\n",
       "    .dataframe tbody tr th:only-of-type {\n",
       "        vertical-align: middle;\n",
       "    }\n",
       "\n",
       "    .dataframe tbody tr th {\n",
       "        vertical-align: top;\n",
       "    }\n",
       "\n",
       "    .dataframe thead th {\n",
       "        text-align: right;\n",
       "    }\n",
       "</style>\n",
       "<table border=\"1\" class=\"dataframe\">\n",
       "  <thead>\n",
       "    <tr style=\"text-align: right;\">\n",
       "      <th></th>\n",
       "      <th>spkid</th>\n",
       "      <th>H</th>\n",
       "      <th>diameter</th>\n",
       "      <th>albedo</th>\n",
       "      <th>diameter_sigma</th>\n",
       "      <th>epoch</th>\n",
       "      <th>epoch_mjd</th>\n",
       "      <th>epoch_cal</th>\n",
       "      <th>e</th>\n",
       "      <th>a</th>\n",
       "      <th>...</th>\n",
       "      <th>sigma_q</th>\n",
       "      <th>sigma_i</th>\n",
       "      <th>sigma_om</th>\n",
       "      <th>sigma_w</th>\n",
       "      <th>sigma_ma</th>\n",
       "      <th>sigma_ad</th>\n",
       "      <th>sigma_n</th>\n",
       "      <th>sigma_tp</th>\n",
       "      <th>sigma_per</th>\n",
       "      <th>rms</th>\n",
       "    </tr>\n",
       "  </thead>\n",
       "  <tbody>\n",
       "    <tr>\n",
       "      <th>count</th>\n",
       "      <td>9.585240e+05</td>\n",
       "      <td>952261.000000</td>\n",
       "      <td>136209.000000</td>\n",
       "      <td>135103.000000</td>\n",
       "      <td>136081.000000</td>\n",
       "      <td>9.585240e+05</td>\n",
       "      <td>958524.000000</td>\n",
       "      <td>9.585240e+05</td>\n",
       "      <td>958524.000000</td>\n",
       "      <td>958524.000000</td>\n",
       "      <td>...</td>\n",
       "      <td>9.386020e+05</td>\n",
       "      <td>9.386020e+05</td>\n",
       "      <td>9.386020e+05</td>\n",
       "      <td>9.386020e+05</td>\n",
       "      <td>9.386020e+05</td>\n",
       "      <td>9.385980e+05</td>\n",
       "      <td>9.386020e+05</td>\n",
       "      <td>9.386020e+05</td>\n",
       "      <td>9.385980e+05</td>\n",
       "      <td>958522.000000</td>\n",
       "    </tr>\n",
       "    <tr>\n",
       "      <th>mean</th>\n",
       "      <td>3.810114e+06</td>\n",
       "      <td>16.906411</td>\n",
       "      <td>5.506429</td>\n",
       "      <td>0.130627</td>\n",
       "      <td>0.479184</td>\n",
       "      <td>2.458869e+06</td>\n",
       "      <td>58868.781950</td>\n",
       "      <td>2.019693e+07</td>\n",
       "      <td>0.156116</td>\n",
       "      <td>2.902143</td>\n",
       "      <td>...</td>\n",
       "      <td>1.982929e+01</td>\n",
       "      <td>1.168449e+00</td>\n",
       "      <td>5.310234e+00</td>\n",
       "      <td>1.370062e+06</td>\n",
       "      <td>1.369977e+06</td>\n",
       "      <td>2.131453e+01</td>\n",
       "      <td>5.060221e-02</td>\n",
       "      <td>4.312780e+08</td>\n",
       "      <td>8.525815e+04</td>\n",
       "      <td>0.561153</td>\n",
       "    </tr>\n",
       "    <tr>\n",
       "      <th>std</th>\n",
       "      <td>6.831541e+06</td>\n",
       "      <td>1.790405</td>\n",
       "      <td>9.425164</td>\n",
       "      <td>0.110323</td>\n",
       "      <td>0.782895</td>\n",
       "      <td>7.016716e+02</td>\n",
       "      <td>701.671573</td>\n",
       "      <td>1.930354e+04</td>\n",
       "      <td>0.092643</td>\n",
       "      <td>39.719503</td>\n",
       "      <td>...</td>\n",
       "      <td>2.903785e+03</td>\n",
       "      <td>1.282231e+02</td>\n",
       "      <td>1.333381e+03</td>\n",
       "      <td>9.158996e+08</td>\n",
       "      <td>9.158991e+08</td>\n",
       "      <td>7.197034e+03</td>\n",
       "      <td>9.814953e+00</td>\n",
       "      <td>2.953046e+11</td>\n",
       "      <td>2.767681e+07</td>\n",
       "      <td>2.745700</td>\n",
       "    </tr>\n",
       "    <tr>\n",
       "      <th>min</th>\n",
       "      <td>2.000001e+06</td>\n",
       "      <td>-1.100000</td>\n",
       "      <td>0.002500</td>\n",
       "      <td>0.001000</td>\n",
       "      <td>0.000500</td>\n",
       "      <td>2.425052e+06</td>\n",
       "      <td>25051.000000</td>\n",
       "      <td>1.927062e+07</td>\n",
       "      <td>0.000000</td>\n",
       "      <td>-14702.447872</td>\n",
       "      <td>...</td>\n",
       "      <td>1.956900e-11</td>\n",
       "      <td>4.608900e-09</td>\n",
       "      <td>6.168800e-08</td>\n",
       "      <td>6.624800e-08</td>\n",
       "      <td>7.820700e-09</td>\n",
       "      <td>1.111300e-11</td>\n",
       "      <td>1.196500e-12</td>\n",
       "      <td>3.782900e-08</td>\n",
       "      <td>9.415900e-09</td>\n",
       "      <td>0.000000</td>\n",
       "    </tr>\n",
       "    <tr>\n",
       "      <th>25%</th>\n",
       "      <td>2.239632e+06</td>\n",
       "      <td>16.100000</td>\n",
       "      <td>2.780000</td>\n",
       "      <td>0.053000</td>\n",
       "      <td>0.180000</td>\n",
       "      <td>2.459000e+06</td>\n",
       "      <td>59000.000000</td>\n",
       "      <td>2.020053e+07</td>\n",
       "      <td>0.092193</td>\n",
       "      <td>2.387835</td>\n",
       "      <td>...</td>\n",
       "      <td>1.462000e-07</td>\n",
       "      <td>6.095900e-06</td>\n",
       "      <td>3.619400e-05</td>\n",
       "      <td>5.755000e-05</td>\n",
       "      <td>2.573700e-05</td>\n",
       "      <td>2.340900e-08</td>\n",
       "      <td>2.768800e-09</td>\n",
       "      <td>1.110900e-04</td>\n",
       "      <td>1.794500e-05</td>\n",
       "      <td>0.518040</td>\n",
       "    </tr>\n",
       "    <tr>\n",
       "      <th>50%</th>\n",
       "      <td>2.479262e+06</td>\n",
       "      <td>16.900000</td>\n",
       "      <td>3.972000</td>\n",
       "      <td>0.079000</td>\n",
       "      <td>0.332000</td>\n",
       "      <td>2.459000e+06</td>\n",
       "      <td>59000.000000</td>\n",
       "      <td>2.020053e+07</td>\n",
       "      <td>0.145002</td>\n",
       "      <td>2.646969</td>\n",
       "      <td>...</td>\n",
       "      <td>2.271900e-07</td>\n",
       "      <td>8.688800e-06</td>\n",
       "      <td>6.642550e-05</td>\n",
       "      <td>1.047100e-04</td>\n",
       "      <td>4.900100e-05</td>\n",
       "      <td>4.359000e-08</td>\n",
       "      <td>4.638000e-09</td>\n",
       "      <td>2.230800e-04</td>\n",
       "      <td>3.501700e-05</td>\n",
       "      <td>0.566280</td>\n",
       "    </tr>\n",
       "    <tr>\n",
       "      <th>75%</th>\n",
       "      <td>3.752518e+06</td>\n",
       "      <td>17.714000</td>\n",
       "      <td>5.765000</td>\n",
       "      <td>0.190000</td>\n",
       "      <td>0.620000</td>\n",
       "      <td>2.459000e+06</td>\n",
       "      <td>59000.000000</td>\n",
       "      <td>2.020053e+07</td>\n",
       "      <td>0.200650</td>\n",
       "      <td>3.001932</td>\n",
       "      <td>...</td>\n",
       "      <td>6.583200e-07</td>\n",
       "      <td>1.591500e-05</td>\n",
       "      <td>1.609775e-04</td>\n",
       "      <td>3.114400e-04</td>\n",
       "      <td>1.718900e-04</td>\n",
       "      <td>1.196600e-07</td>\n",
       "      <td>1.124000e-08</td>\n",
       "      <td>8.139600e-04</td>\n",
       "      <td>9.775475e-05</td>\n",
       "      <td>0.613927</td>\n",
       "    </tr>\n",
       "    <tr>\n",
       "      <th>max</th>\n",
       "      <td>5.401723e+07</td>\n",
       "      <td>33.200000</td>\n",
       "      <td>939.400000</td>\n",
       "      <td>1.000000</td>\n",
       "      <td>140.000000</td>\n",
       "      <td>2.459000e+06</td>\n",
       "      <td>59000.000000</td>\n",
       "      <td>2.020053e+07</td>\n",
       "      <td>1.855356</td>\n",
       "      <td>33488.895955</td>\n",
       "      <td>...</td>\n",
       "      <td>1.015000e+06</td>\n",
       "      <td>5.533000e+04</td>\n",
       "      <td>1.199100e+06</td>\n",
       "      <td>8.845100e+11</td>\n",
       "      <td>8.845100e+11</td>\n",
       "      <td>5.509700e+06</td>\n",
       "      <td>7.698800e+03</td>\n",
       "      <td>2.853100e+14</td>\n",
       "      <td>1.910700e+10</td>\n",
       "      <td>2686.600000</td>\n",
       "    </tr>\n",
       "  </tbody>\n",
       "</table>\n",
       "<p>8 rows × 35 columns</p>\n",
       "</div>"
      ],
      "text/plain": [
       "              spkid              H       diameter         albedo  \\\n",
       "count  9.585240e+05  952261.000000  136209.000000  135103.000000   \n",
       "mean   3.810114e+06      16.906411       5.506429       0.130627   \n",
       "std    6.831541e+06       1.790405       9.425164       0.110323   \n",
       "min    2.000001e+06      -1.100000       0.002500       0.001000   \n",
       "25%    2.239632e+06      16.100000       2.780000       0.053000   \n",
       "50%    2.479262e+06      16.900000       3.972000       0.079000   \n",
       "75%    3.752518e+06      17.714000       5.765000       0.190000   \n",
       "max    5.401723e+07      33.200000     939.400000       1.000000   \n",
       "\n",
       "       diameter_sigma         epoch      epoch_mjd     epoch_cal  \\\n",
       "count   136081.000000  9.585240e+05  958524.000000  9.585240e+05   \n",
       "mean         0.479184  2.458869e+06   58868.781950  2.019693e+07   \n",
       "std          0.782895  7.016716e+02     701.671573  1.930354e+04   \n",
       "min          0.000500  2.425052e+06   25051.000000  1.927062e+07   \n",
       "25%          0.180000  2.459000e+06   59000.000000  2.020053e+07   \n",
       "50%          0.332000  2.459000e+06   59000.000000  2.020053e+07   \n",
       "75%          0.620000  2.459000e+06   59000.000000  2.020053e+07   \n",
       "max        140.000000  2.459000e+06   59000.000000  2.020053e+07   \n",
       "\n",
       "                   e              a  ...       sigma_q       sigma_i  \\\n",
       "count  958524.000000  958524.000000  ...  9.386020e+05  9.386020e+05   \n",
       "mean        0.156116       2.902143  ...  1.982929e+01  1.168449e+00   \n",
       "std         0.092643      39.719503  ...  2.903785e+03  1.282231e+02   \n",
       "min         0.000000  -14702.447872  ...  1.956900e-11  4.608900e-09   \n",
       "25%         0.092193       2.387835  ...  1.462000e-07  6.095900e-06   \n",
       "50%         0.145002       2.646969  ...  2.271900e-07  8.688800e-06   \n",
       "75%         0.200650       3.001932  ...  6.583200e-07  1.591500e-05   \n",
       "max         1.855356   33488.895955  ...  1.015000e+06  5.533000e+04   \n",
       "\n",
       "           sigma_om       sigma_w      sigma_ma      sigma_ad       sigma_n  \\\n",
       "count  9.386020e+05  9.386020e+05  9.386020e+05  9.385980e+05  9.386020e+05   \n",
       "mean   5.310234e+00  1.370062e+06  1.369977e+06  2.131453e+01  5.060221e-02   \n",
       "std    1.333381e+03  9.158996e+08  9.158991e+08  7.197034e+03  9.814953e+00   \n",
       "min    6.168800e-08  6.624800e-08  7.820700e-09  1.111300e-11  1.196500e-12   \n",
       "25%    3.619400e-05  5.755000e-05  2.573700e-05  2.340900e-08  2.768800e-09   \n",
       "50%    6.642550e-05  1.047100e-04  4.900100e-05  4.359000e-08  4.638000e-09   \n",
       "75%    1.609775e-04  3.114400e-04  1.718900e-04  1.196600e-07  1.124000e-08   \n",
       "max    1.199100e+06  8.845100e+11  8.845100e+11  5.509700e+06  7.698800e+03   \n",
       "\n",
       "           sigma_tp     sigma_per            rms  \n",
       "count  9.386020e+05  9.385980e+05  958522.000000  \n",
       "mean   4.312780e+08  8.525815e+04       0.561153  \n",
       "std    2.953046e+11  2.767681e+07       2.745700  \n",
       "min    3.782900e-08  9.415900e-09       0.000000  \n",
       "25%    1.110900e-04  1.794500e-05       0.518040  \n",
       "50%    2.230800e-04  3.501700e-05       0.566280  \n",
       "75%    8.139600e-04  9.775475e-05       0.613927  \n",
       "max    2.853100e+14  1.910700e+10    2686.600000  \n",
       "\n",
       "[8 rows x 35 columns]"
      ]
     },
     "execution_count": 110,
     "metadata": {},
     "output_type": "execute_result"
    }
   ],
   "source": [
    "data.describe()"
   ]
  },
  {
   "cell_type": "code",
   "execution_count": 111,
   "metadata": {},
   "outputs": [
    {
     "data": {
      "text/html": [
       "<div>\n",
       "<style scoped>\n",
       "    .dataframe tbody tr th:only-of-type {\n",
       "        vertical-align: middle;\n",
       "    }\n",
       "\n",
       "    .dataframe tbody tr th {\n",
       "        vertical-align: top;\n",
       "    }\n",
       "\n",
       "    .dataframe thead th {\n",
       "        text-align: right;\n",
       "    }\n",
       "</style>\n",
       "<table border=\"1\" class=\"dataframe\">\n",
       "  <thead>\n",
       "    <tr style=\"text-align: right;\">\n",
       "      <th></th>\n",
       "      <th>id</th>\n",
       "      <th>spkid</th>\n",
       "      <th>full_name</th>\n",
       "      <th>pdes</th>\n",
       "      <th>name</th>\n",
       "      <th>prefix</th>\n",
       "      <th>neo</th>\n",
       "      <th>pha</th>\n",
       "      <th>H</th>\n",
       "      <th>diameter</th>\n",
       "      <th>...</th>\n",
       "      <th>sigma_i</th>\n",
       "      <th>sigma_om</th>\n",
       "      <th>sigma_w</th>\n",
       "      <th>sigma_ma</th>\n",
       "      <th>sigma_ad</th>\n",
       "      <th>sigma_n</th>\n",
       "      <th>sigma_tp</th>\n",
       "      <th>sigma_per</th>\n",
       "      <th>class</th>\n",
       "      <th>rms</th>\n",
       "    </tr>\n",
       "  </thead>\n",
       "  <tbody>\n",
       "    <tr>\n",
       "      <th>0</th>\n",
       "      <td>a0000001</td>\n",
       "      <td>2000001</td>\n",
       "      <td>1 Ceres</td>\n",
       "      <td>1</td>\n",
       "      <td>Ceres</td>\n",
       "      <td>NaN</td>\n",
       "      <td>N</td>\n",
       "      <td>N</td>\n",
       "      <td>3.40</td>\n",
       "      <td>939.400</td>\n",
       "      <td>...</td>\n",
       "      <td>4.608900e-09</td>\n",
       "      <td>6.168800e-08</td>\n",
       "      <td>6.624800e-08</td>\n",
       "      <td>7.820700e-09</td>\n",
       "      <td>1.111300e-11</td>\n",
       "      <td>1.196500e-12</td>\n",
       "      <td>3.782900e-08</td>\n",
       "      <td>9.415900e-09</td>\n",
       "      <td>MBA</td>\n",
       "      <td>0.43301</td>\n",
       "    </tr>\n",
       "    <tr>\n",
       "      <th>1</th>\n",
       "      <td>a0000002</td>\n",
       "      <td>2000002</td>\n",
       "      <td>2 Pallas</td>\n",
       "      <td>2</td>\n",
       "      <td>Pallas</td>\n",
       "      <td>NaN</td>\n",
       "      <td>N</td>\n",
       "      <td>N</td>\n",
       "      <td>4.20</td>\n",
       "      <td>545.000</td>\n",
       "      <td>...</td>\n",
       "      <td>3.469400e-06</td>\n",
       "      <td>6.272400e-06</td>\n",
       "      <td>9.128200e-06</td>\n",
       "      <td>8.859100e-06</td>\n",
       "      <td>4.961300e-09</td>\n",
       "      <td>4.653600e-10</td>\n",
       "      <td>4.078700e-05</td>\n",
       "      <td>3.680700e-06</td>\n",
       "      <td>MBA</td>\n",
       "      <td>0.35936</td>\n",
       "    </tr>\n",
       "    <tr>\n",
       "      <th>2</th>\n",
       "      <td>a0000003</td>\n",
       "      <td>2000003</td>\n",
       "      <td>3 Juno</td>\n",
       "      <td>3</td>\n",
       "      <td>Juno</td>\n",
       "      <td>NaN</td>\n",
       "      <td>N</td>\n",
       "      <td>N</td>\n",
       "      <td>5.33</td>\n",
       "      <td>246.596</td>\n",
       "      <td>...</td>\n",
       "      <td>3.223100e-06</td>\n",
       "      <td>1.664600e-05</td>\n",
       "      <td>1.772100e-05</td>\n",
       "      <td>8.110400e-06</td>\n",
       "      <td>4.363900e-09</td>\n",
       "      <td>4.413400e-10</td>\n",
       "      <td>3.528800e-05</td>\n",
       "      <td>3.107200e-06</td>\n",
       "      <td>MBA</td>\n",
       "      <td>0.33848</td>\n",
       "    </tr>\n",
       "    <tr>\n",
       "      <th>3</th>\n",
       "      <td>a0000004</td>\n",
       "      <td>2000004</td>\n",
       "      <td>4 Vesta</td>\n",
       "      <td>4</td>\n",
       "      <td>Vesta</td>\n",
       "      <td>NaN</td>\n",
       "      <td>N</td>\n",
       "      <td>N</td>\n",
       "      <td>3.00</td>\n",
       "      <td>525.400</td>\n",
       "      <td>...</td>\n",
       "      <td>2.170600e-07</td>\n",
       "      <td>3.880800e-07</td>\n",
       "      <td>1.789300e-07</td>\n",
       "      <td>1.206800e-06</td>\n",
       "      <td>1.648600e-09</td>\n",
       "      <td>2.612500e-10</td>\n",
       "      <td>4.103700e-06</td>\n",
       "      <td>1.274900e-06</td>\n",
       "      <td>MBA</td>\n",
       "      <td>0.39980</td>\n",
       "    </tr>\n",
       "    <tr>\n",
       "      <th>4</th>\n",
       "      <td>a0000005</td>\n",
       "      <td>2000005</td>\n",
       "      <td>5 Astraea</td>\n",
       "      <td>5</td>\n",
       "      <td>Astraea</td>\n",
       "      <td>NaN</td>\n",
       "      <td>N</td>\n",
       "      <td>N</td>\n",
       "      <td>6.90</td>\n",
       "      <td>106.699</td>\n",
       "      <td>...</td>\n",
       "      <td>2.740800e-06</td>\n",
       "      <td>2.894900e-05</td>\n",
       "      <td>2.984200e-05</td>\n",
       "      <td>8.303800e-06</td>\n",
       "      <td>4.729000e-09</td>\n",
       "      <td>5.522700e-10</td>\n",
       "      <td>3.474300e-05</td>\n",
       "      <td>3.490500e-06</td>\n",
       "      <td>MBA</td>\n",
       "      <td>0.52191</td>\n",
       "    </tr>\n",
       "  </tbody>\n",
       "</table>\n",
       "<p>5 rows × 45 columns</p>\n",
       "</div>"
      ],
      "text/plain": [
       "         id    spkid       full_name pdes     name prefix neo pha     H  \\\n",
       "0  a0000001  2000001         1 Ceres    1    Ceres    NaN   N   N  3.40   \n",
       "1  a0000002  2000002        2 Pallas    2   Pallas    NaN   N   N  4.20   \n",
       "2  a0000003  2000003          3 Juno    3     Juno    NaN   N   N  5.33   \n",
       "3  a0000004  2000004         4 Vesta    4    Vesta    NaN   N   N  3.00   \n",
       "4  a0000005  2000005       5 Astraea    5  Astraea    NaN   N   N  6.90   \n",
       "\n",
       "   diameter  ...       sigma_i      sigma_om       sigma_w      sigma_ma  \\\n",
       "0   939.400  ...  4.608900e-09  6.168800e-08  6.624800e-08  7.820700e-09   \n",
       "1   545.000  ...  3.469400e-06  6.272400e-06  9.128200e-06  8.859100e-06   \n",
       "2   246.596  ...  3.223100e-06  1.664600e-05  1.772100e-05  8.110400e-06   \n",
       "3   525.400  ...  2.170600e-07  3.880800e-07  1.789300e-07  1.206800e-06   \n",
       "4   106.699  ...  2.740800e-06  2.894900e-05  2.984200e-05  8.303800e-06   \n",
       "\n",
       "       sigma_ad       sigma_n      sigma_tp     sigma_per  class      rms  \n",
       "0  1.111300e-11  1.196500e-12  3.782900e-08  9.415900e-09    MBA  0.43301  \n",
       "1  4.961300e-09  4.653600e-10  4.078700e-05  3.680700e-06    MBA  0.35936  \n",
       "2  4.363900e-09  4.413400e-10  3.528800e-05  3.107200e-06    MBA  0.33848  \n",
       "3  1.648600e-09  2.612500e-10  4.103700e-06  1.274900e-06    MBA  0.39980  \n",
       "4  4.729000e-09  5.522700e-10  3.474300e-05  3.490500e-06    MBA  0.52191  \n",
       "\n",
       "[5 rows x 45 columns]"
      ]
     },
     "execution_count": 111,
     "metadata": {},
     "output_type": "execute_result"
    }
   ],
   "source": [
    "data.head()"
   ]
  },
  {
   "cell_type": "markdown",
   "metadata": {},
   "source": [
    "## Bazı Sütun İsimlerinin Açıklaması\n",
    "* neo       : Dünya'ya Yakın Obje, asteroitin yörüngesi Dünya'nın yakınından geçiyorsa o asteroit neo olarak sınıflandırılır\n",
    "* pha       : Potansiyel Tehlikeli Asteroit, büyüklüğüne veya yörüngesine göre potansiyel olarak tehlikeli asteroit olarak sınıflandırılabilirler\n",
    "* H         : Mutlak Parlaklık Parametresi, asteroitin 1 astronomik birim (AU) mesafeden gözlemlenen parlaklığını temsil eder. Farklı asteroidlerin Dünya'ya olan uzaklığını hesaplamak için kullanılır\n",
    "* diameter  : Asteroitin kilometre cinsinden ölçülen tahmini çapıdır\n",
    "* albedo    : Asteroit yüzeyinin ne kadar yansıtıcı olduğunun bir ölçüsüdür. Asteroitin yansıttığı ışık miktarının aldığı ışık miktarına oranıdır.\n",
    "* moid      : Dünya'nın Minimum Yörünge Kesişme Mesafesi, asteroitin yörüngesi ile Dünya'nın yörüngesi arasındaki en yakın mesafedir. Bu, iki yörüngenin birbirine ne kadar yakınlaştığının bir ölçüsüdür\n",
    "* class     : Bu, asteroitin spektral sınıfı veya türü gibi ait olduğu bir sınıflandırmayı veya kategoriyi temsil eder\n",
    "* rms       : Ortalama Karekök, asteroitin yörüngesinin gözlemlenen verilere uygunluğunun göstergesidir\n",
    "\n",
    "* diameter_sigma, sigma_e, sigma_a vs. : Asteroitin belirsizliğini ölçer. Yani çap, hız veya konum gibi ölçülen çeşitli parametrelerle ilişkili, bu ölçümlerdeki güven veya güvenilirlik derecesini gösteren aralığı ifade eder.\n"
   ]
  },
  {
   "cell_type": "code",
   "execution_count": 112,
   "metadata": {},
   "outputs": [
    {
     "data": {
      "text/plain": [
       "Index(['id', 'spkid', 'full_name', 'pdes', 'name', 'prefix', 'neo', 'pha', 'H',\n",
       "       'diameter', 'albedo', 'diameter_sigma', 'orbit_id', 'epoch',\n",
       "       'epoch_mjd', 'epoch_cal', 'equinox', 'e', 'a', 'q', 'i', 'om', 'w',\n",
       "       'ma', 'ad', 'n', 'tp', 'tp_cal', 'per', 'per_y', 'moid', 'moid_ld',\n",
       "       'sigma_e', 'sigma_a', 'sigma_q', 'sigma_i', 'sigma_om', 'sigma_w',\n",
       "       'sigma_ma', 'sigma_ad', 'sigma_n', 'sigma_tp', 'sigma_per', 'class',\n",
       "       'rms'],\n",
       "      dtype='object')"
      ]
     },
     "execution_count": 112,
     "metadata": {},
     "output_type": "execute_result"
    }
   ],
   "source": [
    "data.columns"
   ]
  },
  {
   "cell_type": "code",
   "execution_count": 113,
   "metadata": {},
   "outputs": [
    {
     "data": {
      "image/png": "[encoded data removed]",
      "text/plain": [
       "<Figure size 1000x500 with 1 Axes>"
      ]
     },
     "metadata": {},
     "output_type": "display_data"
    }
   ],
   "source": [
    "sns.set_style(\"darkgrid\")\n",
    "class_counts = data[\"class\"].value_counts()\n",
    "plt.figure(figsize=(10, 5))\n",
    "ax = sns.barplot(x=class_counts.index, y=class_counts.values, color='red')  # Change color to bright red\n",
    "plt.xlabel(\"Asteroit Sınıfları\", fontsize=12, fontweight='normal', fontfamily='sans-serif', color='black')\n",
    "plt.ylabel(\"Sayı\", fontsize=12, fontweight='normal', fontfamily='sans-serif', color='black')\n",
    "plt.title(\"Her Sınıf Kategorisindeki Asteroit Sayısı\", fontsize=14, fontweight='normal', fontfamily='sans-serif', color='black')\n",
    "plt.xticks(rotation=45, ha=\"right\", fontsize=10, fontweight='normal', fontfamily='sans-serif', color='black')\n",
    "for p in ax.patches:\n",
    "    ax.annotate(\n",
    "        f\"{p.get_height():.0f}\",\n",
    "        (p.get_x() + p.get_width() / 2.0, p.get_height()),\n",
    "        ha=\"center\",\n",
    "        va=\"center\",\n",
    "        fontsize=10,\n",
    "        color=\"black\",\n",
    "        xytext=(0, 5),\n",
    "        textcoords=\"offset points\",\n",
    "    )\n",
    "plt.tight_layout()\n",
    "plt.show()"
   ]
  },
  {
   "cell_type": "markdown",
   "metadata": {},
   "source": [
    "Asteroidlerin büyük bir kısmının MBA sınıfında olduğunu görüyoruz.\n",
    "\n",
    "MBA, ana kemer asteroiti anlamına gelir. Ana Kemer, Mars Ve Jüpiter arasındaki asteroitleri bulundurur.\n",
    "\n",
    "Bilinen asteroitlerin çoğunluğu bu kemerdeki yörüngelerinde döner. \n",
    "\n",
    "Kemerin, çapı 1 kilometreden daha büyük 1,1 ila 1,9 milyon asteroit içerdiği tahmin ediliyor.\n",
    "\n",
    "<img src=\"asteroid-belt.webp\" alt=\"asteroid belt\" width=\"400\"/>"
   ]
  },
  {
   "cell_type": "code",
   "execution_count": 114,
   "metadata": {},
   "outputs": [
    {
     "data": {
      "text/html": [
       "<div>\n",
       "<style scoped>\n",
       "    .dataframe tbody tr th:only-of-type {\n",
       "        vertical-align: middle;\n",
       "    }\n",
       "\n",
       "    .dataframe tbody tr th {\n",
       "        vertical-align: top;\n",
       "    }\n",
       "\n",
       "    .dataframe thead th {\n",
       "        text-align: right;\n",
       "    }\n",
       "</style>\n",
       "<table border=\"1\" class=\"dataframe\">\n",
       "  <thead>\n",
       "    <tr style=\"text-align: right;\">\n",
       "      <th></th>\n",
       "      <th>class</th>\n",
       "      <th>pha</th>\n",
       "      <th>count</th>\n",
       "    </tr>\n",
       "  </thead>\n",
       "  <tbody>\n",
       "    <tr>\n",
       "      <th>0</th>\n",
       "      <td>AMO</td>\n",
       "      <td>N</td>\n",
       "      <td>8338</td>\n",
       "    </tr>\n",
       "    <tr>\n",
       "      <th>1</th>\n",
       "      <td>AMO</td>\n",
       "      <td>Y</td>\n",
       "      <td>118</td>\n",
       "    </tr>\n",
       "    <tr>\n",
       "      <th>2</th>\n",
       "      <td>APO</td>\n",
       "      <td>N</td>\n",
       "      <td>10919</td>\n",
       "    </tr>\n",
       "    <tr>\n",
       "      <th>3</th>\n",
       "      <td>APO</td>\n",
       "      <td>Y</td>\n",
       "      <td>1768</td>\n",
       "    </tr>\n",
       "    <tr>\n",
       "      <th>4</th>\n",
       "      <td>AST</td>\n",
       "      <td>N</td>\n",
       "      <td>75</td>\n",
       "    </tr>\n",
       "    <tr>\n",
       "      <th>5</th>\n",
       "      <td>ATE</td>\n",
       "      <td>N</td>\n",
       "      <td>1555</td>\n",
       "    </tr>\n",
       "    <tr>\n",
       "      <th>6</th>\n",
       "      <td>ATE</td>\n",
       "      <td>Y</td>\n",
       "      <td>174</td>\n",
       "    </tr>\n",
       "    <tr>\n",
       "      <th>7</th>\n",
       "      <td>CEN</td>\n",
       "      <td>N</td>\n",
       "      <td>504</td>\n",
       "    </tr>\n",
       "    <tr>\n",
       "      <th>8</th>\n",
       "      <td>HYA</td>\n",
       "      <td>N</td>\n",
       "      <td>4</td>\n",
       "    </tr>\n",
       "    <tr>\n",
       "      <th>9</th>\n",
       "      <td>IEO</td>\n",
       "      <td>N</td>\n",
       "      <td>16</td>\n",
       "    </tr>\n",
       "    <tr>\n",
       "      <th>10</th>\n",
       "      <td>IEO</td>\n",
       "      <td>Y</td>\n",
       "      <td>6</td>\n",
       "    </tr>\n",
       "    <tr>\n",
       "      <th>11</th>\n",
       "      <td>IMB</td>\n",
       "      <td>N</td>\n",
       "      <td>19903</td>\n",
       "    </tr>\n",
       "    <tr>\n",
       "      <th>12</th>\n",
       "      <td>MBA</td>\n",
       "      <td>N</td>\n",
       "      <td>837430</td>\n",
       "    </tr>\n",
       "    <tr>\n",
       "      <th>13</th>\n",
       "      <td>MCA</td>\n",
       "      <td>N</td>\n",
       "      <td>18356</td>\n",
       "    </tr>\n",
       "    <tr>\n",
       "      <th>14</th>\n",
       "      <td>OMB</td>\n",
       "      <td>N</td>\n",
       "      <td>27815</td>\n",
       "    </tr>\n",
       "    <tr>\n",
       "      <th>15</th>\n",
       "      <td>TJN</td>\n",
       "      <td>N</td>\n",
       "      <td>8160</td>\n",
       "    </tr>\n",
       "    <tr>\n",
       "      <th>16</th>\n",
       "      <td>TNO</td>\n",
       "      <td>N</td>\n",
       "      <td>3462</td>\n",
       "    </tr>\n",
       "  </tbody>\n",
       "</table>\n",
       "</div>"
      ],
      "text/plain": [
       "   class pha   count\n",
       "0    AMO   N    8338\n",
       "1    AMO   Y     118\n",
       "2    APO   N   10919\n",
       "3    APO   Y    1768\n",
       "4    AST   N      75\n",
       "5    ATE   N    1555\n",
       "6    ATE   Y     174\n",
       "7    CEN   N     504\n",
       "8    HYA   N       4\n",
       "9    IEO   N      16\n",
       "10   IEO   Y       6\n",
       "11   IMB   N   19903\n",
       "12   MBA   N  837430\n",
       "13   MCA   N   18356\n",
       "14   OMB   N   27815\n",
       "15   TJN   N    8160\n",
       "16   TNO   N    3462"
      ]
     },
     "execution_count": 114,
     "metadata": {},
     "output_type": "execute_result"
    }
   ],
   "source": [
    "data.groupby(\"class\")[\"pha\"].value_counts().reset_index()"
   ]
  },
  {
   "cell_type": "code",
   "execution_count": 115,
   "metadata": {},
   "outputs": [
    {
     "data": {
      "text/html": [
       "<div>\n",
       "<style scoped>\n",
       "    .dataframe tbody tr th:only-of-type {\n",
       "        vertical-align: middle;\n",
       "    }\n",
       "\n",
       "    .dataframe tbody tr th {\n",
       "        vertical-align: top;\n",
       "    }\n",
       "\n",
       "    .dataframe thead th {\n",
       "        text-align: right;\n",
       "    }\n",
       "</style>\n",
       "<table border=\"1\" class=\"dataframe\">\n",
       "  <thead>\n",
       "    <tr style=\"text-align: right;\">\n",
       "      <th></th>\n",
       "      <th>class</th>\n",
       "      <th>pha</th>\n",
       "      <th>count</th>\n",
       "    </tr>\n",
       "  </thead>\n",
       "  <tbody>\n",
       "    <tr>\n",
       "      <th>0</th>\n",
       "      <td>AMO</td>\n",
       "      <td>Y</td>\n",
       "      <td>118</td>\n",
       "    </tr>\n",
       "    <tr>\n",
       "      <th>1</th>\n",
       "      <td>APO</td>\n",
       "      <td>Y</td>\n",
       "      <td>1768</td>\n",
       "    </tr>\n",
       "    <tr>\n",
       "      <th>2</th>\n",
       "      <td>ATE</td>\n",
       "      <td>Y</td>\n",
       "      <td>174</td>\n",
       "    </tr>\n",
       "    <tr>\n",
       "      <th>3</th>\n",
       "      <td>IEO</td>\n",
       "      <td>Y</td>\n",
       "      <td>6</td>\n",
       "    </tr>\n",
       "  </tbody>\n",
       "</table>\n",
       "</div>"
      ],
      "text/plain": [
       "  class pha  count\n",
       "0   AMO   Y    118\n",
       "1   APO   Y   1768\n",
       "2   ATE   Y    174\n",
       "3   IEO   Y      6"
      ]
     },
     "execution_count": 115,
     "metadata": {},
     "output_type": "execute_result"
    }
   ],
   "source": [
    "data[data[\"pha\"] == \"Y\"].groupby(\"class\")[\"pha\"].value_counts().reset_index()"
   ]
  },
  {
   "cell_type": "code",
   "execution_count": 116,
   "metadata": {},
   "outputs": [
    {
     "data": {
      "image/png": "[encoded data removed]",
      "text/plain": [
       "<Figure size 700x400 with 1 Axes>"
      ]
     },
     "metadata": {},
     "output_type": "display_data"
    }
   ],
   "source": [
    "sns.set_style(\"whitegrid\")\n",
    "palette = {\"Y\": \"salmon\", \"N\": \"lightblue\"}\n",
    "font = {\"family\": \"sans-serif\", \"weight\": \"normal\", \"size\": 12}\n",
    "font_prop = FontProperties(**font)\n",
    "diameter_by_class = data.groupby([\"class\", \"pha\"])[\"diameter\"].mean().reset_index()\n",
    "plt.figure(figsize=(7, 4))\n",
    "sns.lineplot(\n",
    "    x=\"class\",\n",
    "    y=\"diameter\",\n",
    "    hue=\"pha\",\n",
    "    data=diameter_by_class,\n",
    "    marker=\"o\",\n",
    "    palette=palette,\n",
    ")\n",
    "plt.xlabel(\"Asteroit Sınıfları\", fontproperties=font_prop, color=\"black\")\n",
    "plt.ylabel(\"Ortalama Çap (km)\", fontproperties=font_prop, color=\"black\")\n",
    "plt.title(\"Ortalama Çaplarına Göre Asteroit Sınıfları\", fontproperties=font_prop, color=\"black\")\n",
    "plt.xticks(rotation=45, ha=\"right\", fontproperties=font_prop, color=\"black\")\n",
    "plt.tight_layout()\n",
    "plt.show()"
   ]
  },
  {
   "cell_type": "code",
   "execution_count": 117,
   "metadata": {},
   "outputs": [
    {
     "data": {
      "image/png": "[encoded data removed]",
      "text/plain": [
       "<Figure size 1000x600 with 1 Axes>"
      ]
     },
     "metadata": {},
     "output_type": "display_data"
    }
   ],
   "source": [
    "custom_palette = {\"N\": \"#949398FF\", \"Y\": \"#F4DF4EFF\"}\n",
    "average_H_by_class = data.groupby([\"class\", \"pha\"])[\"H\"].mean().reset_index()\n",
    "plt.rc(\"font\", family=\"sans-serif\", weight=\"normal\", size=12)\n",
    "plt.figure(figsize=(10, 6))\n",
    "sns.barplot(x=\"class\", y=\"H\", hue=\"pha\", data=average_H_by_class, palette=custom_palette)\n",
    "plt.xlabel(\"Asteroit Sınıfları\", color=\"black\")\n",
    "plt.ylabel(\"Ortalama Mutlak Parlaklık (H)\", color=\"black\")\n",
    "plt.title(\"Asteroit Sınıflarına Göre Ortalama Mutlak Parlaklık (H)\", color=\"black\")\n",
    "plt.xticks(rotation=45, ha=\"right\")\n",
    "plt.grid(axis=\"y\", linestyle=\"--\", alpha=0.7)\n",
    "plt.legend(title=\"Potansiyel Tehlikeli Asteroit\",loc=\"upper right\",fontsize=10,title_fontsize=\"12\")\n",
    "plt.tight_layout()\n",
    "plt.show()"
   ]
  },
  {
   "cell_type": "code",
   "execution_count": 118,
   "metadata": {},
   "outputs": [
    {
     "data": {
      "image/png": "[encoded data removed]",
      "text/plain": [
       "<Figure size 700x500 with 1 Axes>"
      ]
     },
     "metadata": {},
     "output_type": "display_data"
    }
   ],
   "source": [
    "neo_count = data[data[\"neo\"] == \"Y\"].shape[0]\n",
    "pha_count = data[data[\"pha\"] == \"Y\"].shape[0]\n",
    "\n",
    "labels = [\"Dünya'ya Yakın Obje (NEO)\", \"Potansiyel Tehlikeli Asteroit (PHA)\"]\n",
    "sizes = [neo_count, pha_count]\n",
    "colors = [\"#B22222\", \"#4CAF50\"]\n",
    "explode = (0, 0.1)\n",
    "\n",
    "plt.figure(figsize=(7, 5))\n",
    "plt.pie(sizes, labels=labels, colors=colors, autopct=\"%1.1f%%\", startangle=90, explode=explode, shadow=True)\n",
    "plt.title(\"NEO ve PHA  Asteroitlerinin Oranı\", fontsize=14, color=\"black\", pad=20)\n",
    "plt.axis(\"equal\")\n",
    "plt.show()"
   ]
  },
  {
   "cell_type": "code",
   "execution_count": 119,
   "metadata": {},
   "outputs": [
    {
     "data": {
      "text/plain": [
       "id                     0\n",
       "spkid                  0\n",
       "full_name              0\n",
       "pdes                   0\n",
       "name              936460\n",
       "prefix            958506\n",
       "neo                    4\n",
       "pha                19921\n",
       "H                   6263\n",
       "diameter          822315\n",
       "albedo            823421\n",
       "diameter_sigma    822443\n",
       "orbit_id               0\n",
       "epoch                  0\n",
       "epoch_mjd              0\n",
       "epoch_cal              0\n",
       "equinox                0\n",
       "e                      0\n",
       "a                      0\n",
       "q                      0\n",
       "i                      0\n",
       "om                     0\n",
       "w                      0\n",
       "ma                     1\n",
       "ad                     4\n",
       "n                      0\n",
       "tp                     0\n",
       "tp_cal                 0\n",
       "per                    4\n",
       "per_y                  1\n",
       "moid               19921\n",
       "moid_ld              127\n",
       "sigma_e            19922\n",
       "sigma_a            19922\n",
       "sigma_q            19922\n",
       "sigma_i            19922\n",
       "sigma_om           19922\n",
       "sigma_w            19922\n",
       "sigma_ma           19922\n",
       "sigma_ad           19926\n",
       "sigma_n            19922\n",
       "sigma_tp           19922\n",
       "sigma_per          19926\n",
       "class                  0\n",
       "rms                    2\n",
       "dtype: int64"
      ]
     },
     "execution_count": 119,
     "metadata": {},
     "output_type": "execute_result"
    }
   ],
   "source": [
    "data.isnull().sum()"
   ]
  },
  {
   "cell_type": "markdown",
   "metadata": {},
   "source": [
    "Albedo, diameter ve diameter_sigma sütunlarının %85'inin boş olduğunu görüyoruz.\n",
    "\n",
    "Bu üçü asteroitleri tehlikelerine göre sınıflandırmamız için gereken en önemli sütunlardan.\n",
    "\n",
    "Sütunlardaki boş değerleri hesaplamanın herhangi bir yolu olmadığı için bu sütunların boş olduğu satırları siliyoruz."
   ]
  },
  {
   "cell_type": "code",
   "execution_count": 120,
   "metadata": {},
   "outputs": [],
   "source": [
    "new_data = data[(data[\"albedo\"].isnull()==False) & (data[\"diameter\"].isnull()==False)& (data[\"diameter_sigma\"].isnull()==False)]"
   ]
  },
  {
   "cell_type": "code",
   "execution_count": 121,
   "metadata": {},
   "outputs": [
    {
     "data": {
      "text/plain": [
       "(135005, 45)"
      ]
     },
     "execution_count": 121,
     "metadata": {},
     "output_type": "execute_result"
    }
   ],
   "source": [
    "new_data.shape"
   ]
  },
  {
   "cell_type": "code",
   "execution_count": 122,
   "metadata": {},
   "outputs": [
    {
     "data": {
      "text/plain": [
       "id                False\n",
       "spkid             False\n",
       "full_name         False\n",
       "pdes              False\n",
       "name               True\n",
       "prefix             True\n",
       "neo               False\n",
       "pha               False\n",
       "H                  True\n",
       "diameter          False\n",
       "albedo            False\n",
       "diameter_sigma    False\n",
       "orbit_id          False\n",
       "epoch             False\n",
       "epoch_mjd         False\n",
       "epoch_cal         False\n",
       "equinox           False\n",
       "e                 False\n",
       "a                 False\n",
       "q                 False\n",
       "i                 False\n",
       "om                False\n",
       "w                 False\n",
       "ma                False\n",
       "ad                False\n",
       "n                 False\n",
       "tp                False\n",
       "tp_cal            False\n",
       "per               False\n",
       "per_y             False\n",
       "moid              False\n",
       "moid_ld           False\n",
       "sigma_e           False\n",
       "sigma_a           False\n",
       "sigma_q           False\n",
       "sigma_i           False\n",
       "sigma_om          False\n",
       "sigma_w           False\n",
       "sigma_ma          False\n",
       "sigma_ad          False\n",
       "sigma_n           False\n",
       "sigma_tp          False\n",
       "sigma_per         False\n",
       "class             False\n",
       "rms               False\n",
       "dtype: bool"
      ]
     },
     "execution_count": 122,
     "metadata": {},
     "output_type": "execute_result"
    }
   ],
   "source": [
    "new_data.isnull().any()"
   ]
  },
  {
   "cell_type": "markdown",
   "metadata": {},
   "source": [
    "Makine öğrenmesi modelimiz için gerekli olmayan sütunları siliyoruz.\n"
   ]
  },
  {
   "cell_type": "code",
   "execution_count": 123,
   "metadata": {},
   "outputs": [],
   "source": [
    "data_dropped = new_data.drop([\"id\",\"spkid\",\"full_name\",\"pdes\",\"name\",\"prefix\",\"orbit_id\",\"equinox\",\"class\",\"om\",\"w\",\"ma\",\"per\",\"per_y\",\"sigma_e\",\n",
    "                              \"sigma_a\",\"sigma_q\",\"sigma_i\",\"sigma_om\",\"sigma_w\",\"sigma_ma\",\"sigma_ad\",\"sigma_n\",\"sigma_tp\",\"sigma_per\"],axis=1,)"
   ]
  },
  {
   "cell_type": "code",
   "execution_count": 124,
   "metadata": {},
   "outputs": [
    {
     "data": {
      "text/plain": [
       "neo                  0\n",
       "pha                  0\n",
       "H                 3863\n",
       "diameter             0\n",
       "albedo               0\n",
       "diameter_sigma       0\n",
       "epoch                0\n",
       "epoch_mjd            0\n",
       "epoch_cal            0\n",
       "e                    0\n",
       "a                    0\n",
       "q                    0\n",
       "i                    0\n",
       "ad                   0\n",
       "n                    0\n",
       "tp                   0\n",
       "tp_cal               0\n",
       "moid                 0\n",
       "moid_ld              0\n",
       "rms                  0\n",
       "dtype: int64"
      ]
     },
     "execution_count": 124,
     "metadata": {},
     "output_type": "execute_result"
    }
   ],
   "source": [
    "data_dropped.isnull().sum()"
   ]
  },
  {
   "cell_type": "code",
   "execution_count": 125,
   "metadata": {},
   "outputs": [
    {
     "data": {
      "image/png": "[encoded data removed]",
      "text/plain": [
       "<Figure size 700x400 with 1 Axes>"
      ]
     },
     "metadata": {},
     "output_type": "display_data"
    }
   ],
   "source": [
    "h_values = data_dropped[\"H\"]\n",
    "\n",
    "plt.figure(figsize=(7, 4))\n",
    "plt.hist(h_values, bins=30, color=\"skyblue\", edgecolor=\"black\")\n",
    "plt.title(\"H Değerlerinin Dağılımı\")\n",
    "plt.xlabel(\"H Değerleri\")\n",
    "plt.ylabel(\"Frekans\")\n",
    "plt.grid(True)\n",
    "plt.show()"
   ]
  },
  {
   "cell_type": "markdown",
   "metadata": {},
   "source": [
    "H, yani mutlak parlaklık parametrelerinin dağılımı normal dağılım tipinde olduğundan dolayı H değerlerini ortalama ile doldurabiliriz."
   ]
  },
  {
   "cell_type": "code",
   "execution_count": 126,
   "metadata": {},
   "outputs": [],
   "source": [
    "data_dropped[\"H\"].fillna(data_dropped[\"H\"].mean(), inplace=True)"
   ]
  },
  {
   "cell_type": "code",
   "execution_count": 127,
   "metadata": {},
   "outputs": [
    {
     "data": {
      "text/plain": [
       "False"
      ]
     },
     "execution_count": 127,
     "metadata": {},
     "output_type": "execute_result"
    }
   ],
   "source": [
    "data_dropped.isnull().sum().any()"
   ]
  },
  {
   "cell_type": "code",
   "execution_count": 128,
   "metadata": {},
   "outputs": [
    {
     "name": "stdout",
     "output_type": "stream",
     "text": [
      "<class 'pandas.core.frame.DataFrame'>\n",
      "Index: 135005 entries, 0 to 909489\n",
      "Data columns (total 20 columns):\n",
      " #   Column          Non-Null Count   Dtype  \n",
      "---  ------          --------------   -----  \n",
      " 0   neo             135005 non-null  object \n",
      " 1   pha             135005 non-null  object \n",
      " 2   H               135005 non-null  float64\n",
      " 3   diameter        135005 non-null  float64\n",
      " 4   albedo          135005 non-null  float64\n",
      " 5   diameter_sigma  135005 non-null  float64\n",
      " 6   epoch           135005 non-null  float64\n",
      " 7   epoch_mjd       135005 non-null  int64  \n",
      " 8   epoch_cal       135005 non-null  float64\n",
      " 9   e               135005 non-null  float64\n",
      " 10  a               135005 non-null  float64\n",
      " 11  q               135005 non-null  float64\n",
      " 12  i               135005 non-null  float64\n",
      " 13  ad              135005 non-null  float64\n",
      " 14  n               135005 non-null  float64\n",
      " 15  tp              135005 non-null  float64\n",
      " 16  tp_cal          135005 non-null  float64\n",
      " 17  moid            135005 non-null  float64\n",
      " 18  moid_ld         135005 non-null  float64\n",
      " 19  rms             135005 non-null  float64\n",
      "dtypes: float64(17), int64(1), object(2)\n",
      "memory usage: 21.6+ MB\n"
     ]
    }
   ],
   "source": [
    "data_dropped.info()"
   ]
  },
  {
   "cell_type": "markdown",
   "metadata": {},
   "source": [
    "Veri setindeki pha ve neo değerlerini, modelin daha kolay anlayabilmesi için sayısal değerlere dönüştürüyoruz."
   ]
  },
  {
   "cell_type": "code",
   "execution_count": 129,
   "metadata": {},
   "outputs": [],
   "source": [
    "one_hot_encoded = pd.get_dummies(data_dropped, columns=[\"neo\", \"pha\"])"
   ]
  },
  {
   "cell_type": "code",
   "execution_count": 130,
   "metadata": {},
   "outputs": [
    {
     "name": "stdout",
     "output_type": "stream",
     "text": [
      "<class 'pandas.core.frame.DataFrame'>\n",
      "Index: 135005 entries, 0 to 909489\n",
      "Data columns (total 22 columns):\n",
      " #   Column          Non-Null Count   Dtype  \n",
      "---  ------          --------------   -----  \n",
      " 0   H               135005 non-null  float64\n",
      " 1   diameter        135005 non-null  float64\n",
      " 2   albedo          135005 non-null  float64\n",
      " 3   diameter_sigma  135005 non-null  float64\n",
      " 4   epoch           135005 non-null  float64\n",
      " 5   epoch_mjd       135005 non-null  int64  \n",
      " 6   epoch_cal       135005 non-null  float64\n",
      " 7   e               135005 non-null  float64\n",
      " 8   a               135005 non-null  float64\n",
      " 9   q               135005 non-null  float64\n",
      " 10  i               135005 non-null  float64\n",
      " 11  ad              135005 non-null  float64\n",
      " 12  n               135005 non-null  float64\n",
      " 13  tp              135005 non-null  float64\n",
      " 14  tp_cal          135005 non-null  float64\n",
      " 15  moid            135005 non-null  float64\n",
      " 16  moid_ld         135005 non-null  float64\n",
      " 17  rms             135005 non-null  float64\n",
      " 18  neo_N           135005 non-null  bool   \n",
      " 19  neo_Y           135005 non-null  bool   \n",
      " 20  pha_N           135005 non-null  bool   \n",
      " 21  pha_Y           135005 non-null  bool   \n",
      "dtypes: bool(4), float64(17), int64(1)\n",
      "memory usage: 20.1 MB\n"
     ]
    }
   ],
   "source": [
    "one_hot_encoded.info()"
   ]
  },
  {
   "cell_type": "markdown",
   "metadata": {},
   "source": [
    "Veri setini önce bağımlı ve bağımsız değişken olarak ayırdık.\n",
    "\n",
    "X bağımsız, y bağımlı değişken.\n",
    "\n",
    "Sonra da bu değişkenleri test ve train olarak ayırdık."
   ]
  },
  {
   "cell_type": "code",
   "execution_count": 131,
   "metadata": {},
   "outputs": [],
   "source": [
    "X = one_hot_encoded.drop([\"pha_Y\",\"pha_N\"], axis=1)\n",
    "y = one_hot_encoded[[\"pha_Y\", \"pha_N\"]]"
   ]
  },
  {
   "cell_type": "code",
   "execution_count": 139,
   "metadata": {},
   "outputs": [],
   "source": [
    "ss = StandardScaler()\n",
    "X_scaler = ss.fit_transform(X)\n",
    "X_train, X_test, y_train, y_test = train_test_split(X_scaler, y, test_size=0.2, random_state=42)"
   ]
  },
  {
   "cell_type": "code",
   "execution_count": 140,
   "metadata": {},
   "outputs": [],
   "source": [
    "knn = KNeighborsClassifier()"
   ]
  },
  {
   "cell_type": "code",
   "execution_count": 141,
   "metadata": {},
   "outputs": [],
   "source": [
    "knn_model = knn.fit(X_train, y_train)"
   ]
  },
  {
   "cell_type": "markdown",
   "metadata": {},
   "source": [
    "Modelimize train değerleri üzerinden tahmin yaptırdık ve bu tahminlerin doğruluk puanını ölçtük."
   ]
  },
  {
   "cell_type": "code",
   "execution_count": 142,
   "metadata": {},
   "outputs": [],
   "source": [
    "y_train_pred = knn_model.predict(X_train)"
   ]
  },
  {
   "cell_type": "code",
   "execution_count": 143,
   "metadata": {},
   "outputs": [
    {
     "data": {
      "text/plain": [
       "0.9990278137846746"
      ]
     },
     "execution_count": 143,
     "metadata": {},
     "output_type": "execute_result"
    }
   ],
   "source": [
    "accuracy_score(y_train, y_train_pred)"
   ]
  },
  {
   "cell_type": "markdown",
   "metadata": {},
   "source": [
    "Modele bu sefer daha önce hiç karşılaşmadığı veriler üzerinden tahmin yaptırıp doğruluk puanını ölçtük.\n",
    "\n",
    "Modelimiz hem daha önce gördüğü verileri, hem de hiç bilmediği verileri doğru bir şekilde tahmin edebiliyor."
   ]
  },
  {
   "cell_type": "code",
   "execution_count": 144,
   "metadata": {},
   "outputs": [],
   "source": [
    "y_test_pred = knn_model.predict(X_test)"
   ]
  },
  {
   "cell_type": "code",
   "execution_count": 145,
   "metadata": {},
   "outputs": [
    {
     "data": {
      "text/plain": [
       "0.9986667160475537"
      ]
     },
     "execution_count": 145,
     "metadata": {},
     "output_type": "execute_result"
    }
   ],
   "source": [
    "accuracy_score(y_test, y_test_pred)"
   ]
  }
 ],
 "metadata": {
  "kernelspec": {
   "display_name": "Python 3",
   "language": "python",
   "name": "python3"
  },
  "language_info": {
   "codemirror_mode": {
    "name": "ipython",
    "version": 3
   },
   "file_extension": ".py",
   "mimetype": "text/x-python",
   "name": "python",
   "nbconvert_exporter": "python",
   "pygments_lexer": "ipython3",
   "version": "3.10.11"
  }
 },
 "nbformat": 4,
 "nbformat_minor": 2
}
